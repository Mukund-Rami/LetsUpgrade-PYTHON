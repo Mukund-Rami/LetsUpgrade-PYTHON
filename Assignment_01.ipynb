{
  "nbformat": 4,
  "nbformat_minor": 0,
  "metadata": {
    "colab": {
      "name": "Assignment-01.ipynb",
      "provenance": [],
      "collapsed_sections": [],
      "authorship_tag": "ABX9TyN7xea7VRctkbfqvC9SA1On",
      "include_colab_link": true
    },
    "kernelspec": {
      "name": "python3",
      "display_name": "Python 3"
    }
  },
  "cells": [
    {
      "cell_type": "markdown",
      "metadata": {
        "id": "view-in-github",
        "colab_type": "text"
      },
      "source": [
        "<a href=\"https://colab.research.google.com/github/Mukund-Rami/LetsUpgrade-PYTHON/blob/main/Assignment_01.ipynb\" target=\"_parent\"><img src=\"https://colab.research.google.com/assets/colab-badge.svg\" alt=\"Open In Colab\"/></a>"
      ]
    },
    {
      "cell_type": "markdown",
      "metadata": {
        "id": "u4jXz1BEHTut"
      },
      "source": [
        "# **Assignment 1**\r\n",
        "\r\n",
        "# **Que-01**\r\n",
        "-> Experiment with 5 List's In-built functions."
      ]
    },
    {
      "cell_type": "code",
      "metadata": {
        "id": "Hkqj-MTjHebt"
      },
      "source": [
        "# Lists"
      ],
      "execution_count": null,
      "outputs": []
    },
    {
      "cell_type": "code",
      "metadata": {
        "id": "HSFSV4vbHqI4"
      },
      "source": [
        "lst = [4, 1, 4.1, 1.4, \"january\", [11,'November'], 11, 1.1 ]\r\n",
        "lst2 = [2012, 2020 ,2023]"
      ],
      "execution_count": null,
      "outputs": []
    },
    {
      "cell_type": "code",
      "metadata": {
        "colab": {
          "base_uri": "https://localhost:8080/"
        },
        "id": "3PgIUUhsblgB",
        "outputId": "81465ccc-13cd-41b5-b07c-742356937ad1"
      },
      "source": [
        "lst"
      ],
      "execution_count": null,
      "outputs": [
        {
          "output_type": "execute_result",
          "data": {
            "text/plain": [
              "[4, 1, 4.1, 1.4, 'january', [11, 'November'], 11, 1.1]"
            ]
          },
          "metadata": {
            "tags": []
          },
          "execution_count": 37
        }
      ]
    },
    {
      "cell_type": "code",
      "metadata": {
        "id": "IgaWFn5wbmVj"
      },
      "source": [
        "lst.append(1)"
      ],
      "execution_count": null,
      "outputs": []
    },
    {
      "cell_type": "code",
      "metadata": {
        "colab": {
          "base_uri": "https://localhost:8080/"
        },
        "id": "vuxdFFNrboZR",
        "outputId": "98442b22-02b5-4902-db0e-9dff97d7e85f"
      },
      "source": [
        "lst"
      ],
      "execution_count": null,
      "outputs": [
        {
          "output_type": "execute_result",
          "data": {
            "text/plain": [
              "[4, 1, 4.1, 1.4, 'january', [11, 'November'], 11, 1.1, 1]"
            ]
          },
          "metadata": {
            "tags": []
          },
          "execution_count": 40
        }
      ]
    },
    {
      "cell_type": "code",
      "metadata": {
        "colab": {
          "base_uri": "https://localhost:8080/"
        },
        "id": "Xba5gSRCbrxb",
        "outputId": "e4811732-b071-4a06-d33b-288a5df5337f"
      },
      "source": [
        "lst.copy()"
      ],
      "execution_count": null,
      "outputs": [
        {
          "output_type": "execute_result",
          "data": {
            "text/plain": [
              "[4, 1, 4.1, 1.4, 'january', [11, 'November'], 11, 1.1, 1]"
            ]
          },
          "metadata": {
            "tags": []
          },
          "execution_count": 43
        }
      ]
    },
    {
      "cell_type": "code",
      "metadata": {
        "colab": {
          "base_uri": "https://localhost:8080/"
        },
        "id": "ucFjj8AEbu35",
        "outputId": "9ea45783-a2a4-4f23-dcc9-7f1583ca3ace"
      },
      "source": [
        "lst.count(1)"
      ],
      "execution_count": null,
      "outputs": [
        {
          "output_type": "execute_result",
          "data": {
            "text/plain": [
              "2"
            ]
          },
          "metadata": {
            "tags": []
          },
          "execution_count": 45
        }
      ]
    },
    {
      "cell_type": "code",
      "metadata": {
        "id": "t1xgPJxEb5Yp"
      },
      "source": [
        "lst.extend(lst2)"
      ],
      "execution_count": null,
      "outputs": []
    },
    {
      "cell_type": "code",
      "metadata": {
        "colab": {
          "base_uri": "https://localhost:8080/"
        },
        "id": "fcr1n4D4cbRK",
        "outputId": "3c4784fa-112e-4e2c-cf2f-38c5b9de184c"
      },
      "source": [
        "lst"
      ],
      "execution_count": null,
      "outputs": [
        {
          "output_type": "execute_result",
          "data": {
            "text/plain": [
              "[4, 1, 4.1, 1.4, 'january', [11, 'November'], 11, 1.1, 2012, 2020, 2023]"
            ]
          },
          "metadata": {
            "tags": []
          },
          "execution_count": 48
        }
      ]
    },
    {
      "cell_type": "code",
      "metadata": {
        "colab": {
          "base_uri": "https://localhost:8080/"
        },
        "id": "2d7lD0kmccL8",
        "outputId": "3078c6ab-922f-401a-e0e4-aee046e88fc5"
      },
      "source": [
        "lst.index(1)"
      ],
      "execution_count": null,
      "outputs": [
        {
          "output_type": "execute_result",
          "data": {
            "text/plain": [
              "1"
            ]
          },
          "metadata": {
            "tags": []
          },
          "execution_count": 50
        }
      ]
    },
    {
      "cell_type": "code",
      "metadata": {
        "colab": {
          "base_uri": "https://localhost:8080/"
        },
        "id": "0EpGptwRdJk6",
        "outputId": "ca9d17ea-fca0-426a-9565-37193efe77ca"
      },
      "source": [
        "lst"
      ],
      "execution_count": null,
      "outputs": [
        {
          "output_type": "execute_result",
          "data": {
            "text/plain": [
              "['MUKUND',\n",
              " 'MUKUND',\n",
              " 4,\n",
              " 1,\n",
              " 4.1,\n",
              " 1.4,\n",
              " 'january',\n",
              " [11, 'November'],\n",
              " 11,\n",
              " 1.1,\n",
              " 2012,\n",
              " 2020,\n",
              " 2023]"
            ]
          },
          "metadata": {
            "tags": []
          },
          "execution_count": 56
        }
      ]
    },
    {
      "cell_type": "code",
      "metadata": {
        "id": "FYBWmFVBdMTR"
      },
      "source": [
        "lst.remove('MUKUND')"
      ],
      "execution_count": null,
      "outputs": []
    },
    {
      "cell_type": "code",
      "metadata": {
        "colab": {
          "base_uri": "https://localhost:8080/"
        },
        "id": "cVVxS5X-dSwB",
        "outputId": "6fc70c69-8cad-4726-fa6a-120f6aa7d278"
      },
      "source": [
        "lst"
      ],
      "execution_count": null,
      "outputs": [
        {
          "output_type": "execute_result",
          "data": {
            "text/plain": [
              "['MUKUND',\n",
              " 4,\n",
              " 1,\n",
              " 4.1,\n",
              " 1.4,\n",
              " 'january',\n",
              " [11, 'November'],\n",
              " 11,\n",
              " 1.1,\n",
              " 2012,\n",
              " 2020,\n",
              " 2023]"
            ]
          },
          "metadata": {
            "tags": []
          },
          "execution_count": 58
        }
      ]
    },
    {
      "cell_type": "code",
      "metadata": {
        "colab": {
          "base_uri": "https://localhost:8080/",
          "height": 35
        },
        "id": "VMB1ztqUdTg8",
        "outputId": "d19cb6d5-1a68-4aed-f78b-3528f2433483"
      },
      "source": [
        "lst.pop(5)"
      ],
      "execution_count": null,
      "outputs": [
        {
          "output_type": "execute_result",
          "data": {
            "application/vnd.google.colaboratory.intrinsic+json": {
              "type": "string"
            },
            "text/plain": [
              "'january'"
            ]
          },
          "metadata": {
            "tags": []
          },
          "execution_count": 59
        }
      ]
    },
    {
      "cell_type": "code",
      "metadata": {
        "colab": {
          "base_uri": "https://localhost:8080/"
        },
        "id": "MMBPeQXedh8R",
        "outputId": "dbc77087-6558-4a7a-8cfb-7d31e9e7f7c5"
      },
      "source": [
        "lst"
      ],
      "execution_count": null,
      "outputs": [
        {
          "output_type": "execute_result",
          "data": {
            "text/plain": [
              "['MUKUND', 4, 1, 4.1, 1.4, [11, 'November'], 11, 1.1, 2012, 2020, 2023]"
            ]
          },
          "metadata": {
            "tags": []
          },
          "execution_count": 60
        }
      ]
    },
    {
      "cell_type": "code",
      "metadata": {
        "id": "SMvgZnW5djg7"
      },
      "source": [
        "lst.reverse()"
      ],
      "execution_count": null,
      "outputs": []
    },
    {
      "cell_type": "code",
      "metadata": {
        "colab": {
          "base_uri": "https://localhost:8080/"
        },
        "id": "4R4Ppjkbdm_K",
        "outputId": "11aa060d-e7c4-440d-d75a-b93002695d9f"
      },
      "source": [
        "lst"
      ],
      "execution_count": null,
      "outputs": [
        {
          "output_type": "execute_result",
          "data": {
            "text/plain": [
              "[2023, 2020, 2012, 1.1, 11, [11, 'November'], 1.4, 4.1, 1, 4, 'MUKUND']"
            ]
          },
          "metadata": {
            "tags": []
          },
          "execution_count": 62
        }
      ]
    },
    {
      "cell_type": "code",
      "metadata": {
        "id": "3Z11txb_dnxc"
      },
      "source": [
        "lst.clear()"
      ],
      "execution_count": null,
      "outputs": []
    },
    {
      "cell_type": "code",
      "metadata": {
        "colab": {
          "base_uri": "https://localhost:8080/"
        },
        "id": "J7cMMEgQdxG5",
        "outputId": "53fef914-5de7-42cd-b32b-d617cf53792a"
      },
      "source": [
        "lst"
      ],
      "execution_count": null,
      "outputs": [
        {
          "output_type": "execute_result",
          "data": {
            "text/plain": [
              "[]"
            ]
          },
          "metadata": {
            "tags": []
          },
          "execution_count": 65
        }
      ]
    },
    {
      "cell_type": "markdown",
      "metadata": {
        "id": "yiZ5-Is6p5Af"
      },
      "source": [
        "# **Que-02**\r\n",
        "\r\n",
        "-> Experiment with 5 dictionary's In-built functions."
      ]
    },
    {
      "cell_type": "code",
      "metadata": {
        "id": "9l4jifLcsOQ7"
      },
      "source": [
        "dictionary = {\"First Name\":\"Mukund\",\"Middle Name\":\"Shaileshkumar\",\"Last Name\":\"Rami\",\"Age\":19,\"Location\":\"Gujarat\"}"
      ],
      "execution_count": null,
      "outputs": []
    },
    {
      "cell_type": "code",
      "metadata": {
        "colab": {
          "base_uri": "https://localhost:8080/"
        },
        "id": "vQrJCUiftMSz",
        "outputId": "f14737e6-4f4f-4245-dfd5-50a7406e0496"
      },
      "source": [
        "dictionary.copy()"
      ],
      "execution_count": null,
      "outputs": [
        {
          "output_type": "execute_result",
          "data": {
            "text/plain": [
              "{'Age': 19,\n",
              " 'First Name': 'Mukund',\n",
              " 'Last Name': 'Rami',\n",
              " 'Location': 'Gujarat',\n",
              " 'Middle Name': 'Shaileshkumar'}"
            ]
          },
          "metadata": {
            "tags": []
          },
          "execution_count": 4
        }
      ]
    },
    {
      "cell_type": "code",
      "metadata": {
        "colab": {
          "base_uri": "https://localhost:8080/"
        },
        "id": "sQuWSzYjt5Qh",
        "outputId": "df5d81ce-b02e-4280-91cd-3fd128e5df2b"
      },
      "source": [
        "dictionary.fromkeys(dictionary)"
      ],
      "execution_count": null,
      "outputs": [
        {
          "output_type": "execute_result",
          "data": {
            "text/plain": [
              "{'Age': None,\n",
              " 'First Name': None,\n",
              " 'Last Name': None,\n",
              " 'Location': None,\n",
              " 'Middle Name': None}"
            ]
          },
          "metadata": {
            "tags": []
          },
          "execution_count": 6
        }
      ]
    },
    {
      "cell_type": "code",
      "metadata": {
        "colab": {
          "base_uri": "https://localhost:8080/"
        },
        "id": "9yCs2BNDuHi3",
        "outputId": "83a87b16-576b-40e6-d169-28870f8196a4"
      },
      "source": [
        "dictionary.get(\"Age\")"
      ],
      "execution_count": null,
      "outputs": [
        {
          "output_type": "execute_result",
          "data": {
            "text/plain": [
              "19"
            ]
          },
          "metadata": {
            "tags": []
          },
          "execution_count": 8
        }
      ]
    },
    {
      "cell_type": "code",
      "metadata": {
        "colab": {
          "base_uri": "https://localhost:8080/"
        },
        "id": "TsDds_lgudK6",
        "outputId": "3104991e-6204-4d15-a69e-5d3a9a4e6c6f"
      },
      "source": [
        "dictionary.items()"
      ],
      "execution_count": null,
      "outputs": [
        {
          "output_type": "execute_result",
          "data": {
            "text/plain": [
              "dict_items([('First Name', 'Mukund'), ('Middle Name', 'Shaileshkumar'), ('Last Name', 'Rami'), ('Age', 19), ('Location', 'Gujarat')])"
            ]
          },
          "metadata": {
            "tags": []
          },
          "execution_count": 9
        }
      ]
    },
    {
      "cell_type": "code",
      "metadata": {
        "colab": {
          "base_uri": "https://localhost:8080/"
        },
        "id": "zf5pisInulr_",
        "outputId": "8040f6e1-1ca5-4d86-942a-c862bd9bdab8"
      },
      "source": [
        "dictionary.keys()\r\n"
      ],
      "execution_count": null,
      "outputs": [
        {
          "output_type": "execute_result",
          "data": {
            "text/plain": [
              "dict_keys(['First Name', 'Middle Name', 'Last Name', 'Age', 'Location'])"
            ]
          },
          "metadata": {
            "tags": []
          },
          "execution_count": 10
        }
      ]
    },
    {
      "cell_type": "code",
      "metadata": {
        "colab": {
          "base_uri": "https://localhost:8080/",
          "height": 35
        },
        "id": "JDiVG2CFuqJn",
        "outputId": "5608ed60-6e9b-4c73-edeb-6d360a94f764"
      },
      "source": [
        "dictionary.pop(\"First Name\")"
      ],
      "execution_count": null,
      "outputs": [
        {
          "output_type": "execute_result",
          "data": {
            "application/vnd.google.colaboratory.intrinsic+json": {
              "type": "string"
            },
            "text/plain": [
              "'Mukund'"
            ]
          },
          "metadata": {
            "tags": []
          },
          "execution_count": 11
        }
      ]
    },
    {
      "cell_type": "code",
      "metadata": {
        "colab": {
          "base_uri": "https://localhost:8080/"
        },
        "id": "t-gb43s0u1kw",
        "outputId": "c83fb019-5e24-4662-db92-1f047bf3e687"
      },
      "source": [
        "dictionary.popitem()"
      ],
      "execution_count": null,
      "outputs": [
        {
          "output_type": "execute_result",
          "data": {
            "text/plain": [
              "('Location', 'Gujarat')"
            ]
          },
          "metadata": {
            "tags": []
          },
          "execution_count": 12
        }
      ]
    },
    {
      "cell_type": "code",
      "metadata": {
        "colab": {
          "base_uri": "https://localhost:8080/"
        },
        "id": "9krDCPkmu6Ig",
        "outputId": "3587ffa2-0267-44f6-a8ea-101310e864b3"
      },
      "source": [
        "dictionary.setdefault(\"Age\")"
      ],
      "execution_count": null,
      "outputs": [
        {
          "output_type": "execute_result",
          "data": {
            "text/plain": [
              "19"
            ]
          },
          "metadata": {
            "tags": []
          },
          "execution_count": 13
        }
      ]
    },
    {
      "cell_type": "code",
      "metadata": {
        "id": "_MEigx_FvGoI"
      },
      "source": [
        "dictionary.update(dictionary)"
      ],
      "execution_count": null,
      "outputs": []
    },
    {
      "cell_type": "code",
      "metadata": {
        "colab": {
          "base_uri": "https://localhost:8080/"
        },
        "id": "fqinJyiUvT88",
        "outputId": "ff77a16a-853e-4f6f-b240-10368b71d7ad"
      },
      "source": [
        "dictionary"
      ],
      "execution_count": null,
      "outputs": [
        {
          "output_type": "execute_result",
          "data": {
            "text/plain": [
              "{'Age': 19, 'Last Name': 'Rami', 'Middle Name': 'Shaileshkumar'}"
            ]
          },
          "metadata": {
            "tags": []
          },
          "execution_count": 15
        }
      ]
    },
    {
      "cell_type": "code",
      "metadata": {
        "colab": {
          "base_uri": "https://localhost:8080/"
        },
        "id": "DB9HlgPCvVRx",
        "outputId": "cf709b54-429d-470a-a76b-3c504743ca68"
      },
      "source": [
        "dictionary.values()"
      ],
      "execution_count": null,
      "outputs": [
        {
          "output_type": "execute_result",
          "data": {
            "text/plain": [
              "dict_values(['Shaileshkumar', 'Rami', 19])"
            ]
          },
          "metadata": {
            "tags": []
          },
          "execution_count": 16
        }
      ]
    },
    {
      "cell_type": "code",
      "metadata": {
        "colab": {
          "base_uri": "https://localhost:8080/"
        },
        "id": "kXHLsbPlvZLJ",
        "outputId": "b43b548c-93eb-4317-c8d6-3c84cf815b98"
      },
      "source": [
        "dictionary"
      ],
      "execution_count": null,
      "outputs": [
        {
          "output_type": "execute_result",
          "data": {
            "text/plain": [
              "{'Age': 19, 'Last Name': 'Rami', 'Middle Name': 'Shaileshkumar'}"
            ]
          },
          "metadata": {
            "tags": []
          },
          "execution_count": 17
        }
      ]
    }
  ]
}